{
 "cells": [
  {
   "cell_type": "code",
   "execution_count": 1,
   "metadata": {
    "collapsed": true
   },
   "outputs": [],
   "source": [
    "import pandas as pd\n",
    "import numpy as np\n",
    "from sklearn import ensemble, cross_validation, metrics\n",
    "from sklearn.neural_network import BernoulliRBM\n",
    "from sklearn.pipeline import Pipeline"
   ]
  },
  {
   "cell_type": "code",
   "execution_count": 2,
   "metadata": {
    "collapsed": true
   },
   "outputs": [],
   "source": [
    "import matplotlib.pyplot as plt\n",
    " \n",
    "pd.set_option('display.max_columns',1000)\n",
    "pd.set_option('display.max_columns', 50)\n",
    "pd.set_option('display.max_colwidth', 100)\n",
    " \n",
    "plt.style.use('ggplot')"
   ]
  },
  {
   "cell_type": "code",
   "execution_count": 3,
   "metadata": {
    "collapsed": false
   },
   "outputs": [],
   "source": [
    "dfTrain = pd.read_csv('../../data/train/train.csv')\n",
    "dfTest = pd.read_csv('../../data/test/test.csv')"
   ]
  },
  {
   "cell_type": "code",
   "execution_count": 4,
   "metadata": {
    "collapsed": false,
    "scrolled": false
   },
   "outputs": [
    {
     "data": {
      "text/html": [
       "<div style=\"max-height:1000px;max-width:1500px;overflow:auto;\">\n",
       "<table border=\"1\" class=\"dataframe\">\n",
       "  <thead>\n",
       "    <tr style=\"text-align: right;\">\n",
       "      <th></th>\n",
       "      <th>label</th>\n",
       "      <th>pixel0</th>\n",
       "      <th>pixel1</th>\n",
       "      <th>pixel2</th>\n",
       "      <th>pixel3</th>\n",
       "      <th>pixel4</th>\n",
       "      <th>pixel5</th>\n",
       "      <th>pixel6</th>\n",
       "      <th>pixel7</th>\n",
       "      <th>pixel8</th>\n",
       "      <th>pixel9</th>\n",
       "      <th>pixel10</th>\n",
       "      <th>pixel11</th>\n",
       "      <th>pixel12</th>\n",
       "      <th>pixel13</th>\n",
       "      <th>pixel14</th>\n",
       "      <th>pixel15</th>\n",
       "      <th>pixel16</th>\n",
       "      <th>pixel17</th>\n",
       "      <th>pixel18</th>\n",
       "      <th>pixel19</th>\n",
       "      <th>pixel20</th>\n",
       "      <th>pixel21</th>\n",
       "      <th>pixel22</th>\n",
       "      <th>pixel23</th>\n",
       "      <th>...</th>\n",
       "      <th>pixel759</th>\n",
       "      <th>pixel760</th>\n",
       "      <th>pixel761</th>\n",
       "      <th>pixel762</th>\n",
       "      <th>pixel763</th>\n",
       "      <th>pixel764</th>\n",
       "      <th>pixel765</th>\n",
       "      <th>pixel766</th>\n",
       "      <th>pixel767</th>\n",
       "      <th>pixel768</th>\n",
       "      <th>pixel769</th>\n",
       "      <th>pixel770</th>\n",
       "      <th>pixel771</th>\n",
       "      <th>pixel772</th>\n",
       "      <th>pixel773</th>\n",
       "      <th>pixel774</th>\n",
       "      <th>pixel775</th>\n",
       "      <th>pixel776</th>\n",
       "      <th>pixel777</th>\n",
       "      <th>pixel778</th>\n",
       "      <th>pixel779</th>\n",
       "      <th>pixel780</th>\n",
       "      <th>pixel781</th>\n",
       "      <th>pixel782</th>\n",
       "      <th>pixel783</th>\n",
       "    </tr>\n",
       "  </thead>\n",
       "  <tbody>\n",
       "    <tr>\n",
       "      <th>0</th>\n",
       "      <td>1</td>\n",
       "      <td>0</td>\n",
       "      <td>0</td>\n",
       "      <td>0</td>\n",
       "      <td>0</td>\n",
       "      <td>0</td>\n",
       "      <td>0</td>\n",
       "      <td>0</td>\n",
       "      <td>0</td>\n",
       "      <td>0</td>\n",
       "      <td>0</td>\n",
       "      <td>0</td>\n",
       "      <td>0</td>\n",
       "      <td>0</td>\n",
       "      <td>0</td>\n",
       "      <td>0</td>\n",
       "      <td>0</td>\n",
       "      <td>0</td>\n",
       "      <td>0</td>\n",
       "      <td>0</td>\n",
       "      <td>0</td>\n",
       "      <td>0</td>\n",
       "      <td>0</td>\n",
       "      <td>0</td>\n",
       "      <td>0</td>\n",
       "      <td>...</td>\n",
       "      <td>0</td>\n",
       "      <td>0</td>\n",
       "      <td>0</td>\n",
       "      <td>0</td>\n",
       "      <td>0</td>\n",
       "      <td>0</td>\n",
       "      <td>0</td>\n",
       "      <td>0</td>\n",
       "      <td>0</td>\n",
       "      <td>0</td>\n",
       "      <td>0</td>\n",
       "      <td>0</td>\n",
       "      <td>0</td>\n",
       "      <td>0</td>\n",
       "      <td>0</td>\n",
       "      <td>0</td>\n",
       "      <td>0</td>\n",
       "      <td>0</td>\n",
       "      <td>0</td>\n",
       "      <td>0</td>\n",
       "      <td>0</td>\n",
       "      <td>0</td>\n",
       "      <td>0</td>\n",
       "      <td>0</td>\n",
       "      <td>0</td>\n",
       "    </tr>\n",
       "  </tbody>\n",
       "</table>\n",
       "<p>1 rows × 785 columns</p>\n",
       "</div>"
      ],
      "text/plain": [
       "   label  pixel0  pixel1  pixel2  pixel3  pixel4  pixel5  pixel6  pixel7  \\\n",
       "0      1       0       0       0       0       0       0       0       0   \n",
       "\n",
       "   pixel8  pixel9  pixel10  pixel11  pixel12  pixel13  pixel14  pixel15  \\\n",
       "0       0       0        0        0        0        0        0        0   \n",
       "\n",
       "   pixel16  pixel17  pixel18  pixel19  pixel20  pixel21  pixel22  pixel23  \\\n",
       "0        0        0        0        0        0        0        0        0   \n",
       "\n",
       "     ...     pixel759  pixel760  pixel761  pixel762  pixel763  pixel764  \\\n",
       "0    ...            0         0         0         0         0         0   \n",
       "\n",
       "   pixel765  pixel766  pixel767  pixel768  pixel769  pixel770  pixel771  \\\n",
       "0         0         0         0         0         0         0         0   \n",
       "\n",
       "   pixel772  pixel773  pixel774  pixel775  pixel776  pixel777  pixel778  \\\n",
       "0         0         0         0         0         0         0         0   \n",
       "\n",
       "   pixel779  pixel780  pixel781  pixel782  pixel783  \n",
       "0         0         0         0         0         0  \n",
       "\n",
       "[1 rows x 785 columns]"
      ]
     },
     "execution_count": 4,
     "metadata": {},
     "output_type": "execute_result"
    }
   ],
   "source": [
    "dfTrain.head(1)"
   ]
  },
  {
   "cell_type": "code",
   "execution_count": 5,
   "metadata": {
    "collapsed": false,
    "scrolled": false
   },
   "outputs": [
    {
     "data": {
      "text/html": [
       "<div style=\"max-height:1000px;max-width:1500px;overflow:auto;\">\n",
       "<table border=\"1\" class=\"dataframe\">\n",
       "  <thead>\n",
       "    <tr style=\"text-align: right;\">\n",
       "      <th></th>\n",
       "      <th>pixel0</th>\n",
       "      <th>pixel1</th>\n",
       "      <th>pixel2</th>\n",
       "      <th>pixel3</th>\n",
       "      <th>pixel4</th>\n",
       "      <th>pixel5</th>\n",
       "      <th>pixel6</th>\n",
       "      <th>pixel7</th>\n",
       "      <th>pixel8</th>\n",
       "      <th>pixel9</th>\n",
       "      <th>pixel10</th>\n",
       "      <th>pixel11</th>\n",
       "      <th>pixel12</th>\n",
       "      <th>pixel13</th>\n",
       "      <th>pixel14</th>\n",
       "      <th>pixel15</th>\n",
       "      <th>pixel16</th>\n",
       "      <th>pixel17</th>\n",
       "      <th>pixel18</th>\n",
       "      <th>pixel19</th>\n",
       "      <th>pixel20</th>\n",
       "      <th>pixel21</th>\n",
       "      <th>pixel22</th>\n",
       "      <th>pixel23</th>\n",
       "      <th>pixel24</th>\n",
       "      <th>...</th>\n",
       "      <th>pixel759</th>\n",
       "      <th>pixel760</th>\n",
       "      <th>pixel761</th>\n",
       "      <th>pixel762</th>\n",
       "      <th>pixel763</th>\n",
       "      <th>pixel764</th>\n",
       "      <th>pixel765</th>\n",
       "      <th>pixel766</th>\n",
       "      <th>pixel767</th>\n",
       "      <th>pixel768</th>\n",
       "      <th>pixel769</th>\n",
       "      <th>pixel770</th>\n",
       "      <th>pixel771</th>\n",
       "      <th>pixel772</th>\n",
       "      <th>pixel773</th>\n",
       "      <th>pixel774</th>\n",
       "      <th>pixel775</th>\n",
       "      <th>pixel776</th>\n",
       "      <th>pixel777</th>\n",
       "      <th>pixel778</th>\n",
       "      <th>pixel779</th>\n",
       "      <th>pixel780</th>\n",
       "      <th>pixel781</th>\n",
       "      <th>pixel782</th>\n",
       "      <th>pixel783</th>\n",
       "    </tr>\n",
       "  </thead>\n",
       "  <tbody>\n",
       "    <tr>\n",
       "      <th>0</th>\n",
       "      <td>0</td>\n",
       "      <td>0</td>\n",
       "      <td>0</td>\n",
       "      <td>0</td>\n",
       "      <td>0</td>\n",
       "      <td>0</td>\n",
       "      <td>0</td>\n",
       "      <td>0</td>\n",
       "      <td>0</td>\n",
       "      <td>0</td>\n",
       "      <td>0</td>\n",
       "      <td>0</td>\n",
       "      <td>0</td>\n",
       "      <td>0</td>\n",
       "      <td>0</td>\n",
       "      <td>0</td>\n",
       "      <td>0</td>\n",
       "      <td>0</td>\n",
       "      <td>0</td>\n",
       "      <td>0</td>\n",
       "      <td>0</td>\n",
       "      <td>0</td>\n",
       "      <td>0</td>\n",
       "      <td>0</td>\n",
       "      <td>0</td>\n",
       "      <td>...</td>\n",
       "      <td>0</td>\n",
       "      <td>0</td>\n",
       "      <td>0</td>\n",
       "      <td>0</td>\n",
       "      <td>0</td>\n",
       "      <td>0</td>\n",
       "      <td>0</td>\n",
       "      <td>0</td>\n",
       "      <td>0</td>\n",
       "      <td>0</td>\n",
       "      <td>0</td>\n",
       "      <td>0</td>\n",
       "      <td>0</td>\n",
       "      <td>0</td>\n",
       "      <td>0</td>\n",
       "      <td>0</td>\n",
       "      <td>0</td>\n",
       "      <td>0</td>\n",
       "      <td>0</td>\n",
       "      <td>0</td>\n",
       "      <td>0</td>\n",
       "      <td>0</td>\n",
       "      <td>0</td>\n",
       "      <td>0</td>\n",
       "      <td>0</td>\n",
       "    </tr>\n",
       "  </tbody>\n",
       "</table>\n",
       "<p>1 rows × 784 columns</p>\n",
       "</div>"
      ],
      "text/plain": [
       "   pixel0  pixel1  pixel2  pixel3  pixel4  pixel5  pixel6  pixel7  pixel8  \\\n",
       "0       0       0       0       0       0       0       0       0       0   \n",
       "\n",
       "   pixel9  pixel10  pixel11  pixel12  pixel13  pixel14  pixel15  pixel16  \\\n",
       "0       0        0        0        0        0        0        0        0   \n",
       "\n",
       "   pixel17  pixel18  pixel19  pixel20  pixel21  pixel22  pixel23  pixel24  \\\n",
       "0        0        0        0        0        0        0        0        0   \n",
       "\n",
       "     ...     pixel759  pixel760  pixel761  pixel762  pixel763  pixel764  \\\n",
       "0    ...            0         0         0         0         0         0   \n",
       "\n",
       "   pixel765  pixel766  pixel767  pixel768  pixel769  pixel770  pixel771  \\\n",
       "0         0         0         0         0         0         0         0   \n",
       "\n",
       "   pixel772  pixel773  pixel774  pixel775  pixel776  pixel777  pixel778  \\\n",
       "0         0         0         0         0         0         0         0   \n",
       "\n",
       "   pixel779  pixel780  pixel781  pixel782  pixel783  \n",
       "0         0         0         0         0         0  \n",
       "\n",
       "[1 rows x 784 columns]"
      ]
     },
     "execution_count": 5,
     "metadata": {},
     "output_type": "execute_result"
    }
   ],
   "source": [
    "dfTest.head(1)"
   ]
  },
  {
   "cell_type": "code",
   "execution_count": 6,
   "metadata": {
    "collapsed": false
   },
   "outputs": [
    {
     "data": {
      "text/plain": [
       "(42000, 785)"
      ]
     },
     "execution_count": 6,
     "metadata": {},
     "output_type": "execute_result"
    }
   ],
   "source": [
    "dfTrain.shape"
   ]
  },
  {
   "cell_type": "code",
   "execution_count": null,
   "metadata": {
    "collapsed": true
   },
   "outputs": [],
   "source": []
  },
  {
   "cell_type": "code",
   "execution_count": 7,
   "metadata": {
    "collapsed": true
   },
   "outputs": [],
   "source": [
    "X_train = dfTrain.drop(['label'], axis=1)\n",
    "X_test = dfTest\n",
    "y_train = dfTrain.label"
   ]
  },
  {
   "cell_type": "code",
   "execution_count": 8,
   "metadata": {
    "collapsed": true
   },
   "outputs": [],
   "source": [
    "def cross_val_predict(clf, X, y):\n",
    "    kf =  cross_validation.KFold(len(X), n_folds=5, shuffle=True)\n",
    "  \n",
    "    preds = np.zeros(len(X))\n",
    "    preds_probas = np.zeros((len(X), len(y.value_counts())))\n",
    "    for train_index, test_index in kf:\n",
    "        X_train, X_test = X.iloc[train_index], X.iloc[test_index]\n",
    "        y_train = y.iloc[train_index]\n",
    "        clf.fit(X_train, y_train)\n",
    "        preds[test_index] = clf.predict(X_test)\n",
    "        preds_probas[test_index] = clf.predict_proba(X_test)\n",
    "    return (preds_probas, preds)"
   ]
  },
  {
   "cell_type": "markdown",
   "metadata": {},
   "source": [
    "#Modèles dummy"
   ]
  },
  {
   "cell_type": "markdown",
   "metadata": {},
   "source": [
    "##ExtraTree basique"
   ]
  },
  {
   "cell_type": "code",
   "execution_count": 9,
   "metadata": {
    "collapsed": false
   },
   "outputs": [],
   "source": [
    "clf = ensemble.ExtraTreesClassifier(n_estimators = 50, n_jobs=3, max_depth=20)\n",
    "(preds_probas, preds) = cross_val_predict(clf, X_train, y_train)"
   ]
  },
  {
   "cell_type": "code",
   "execution_count": 10,
   "metadata": {
    "collapsed": false
   },
   "outputs": [
    {
     "name": "stdout",
     "output_type": "stream",
     "text": [
      "             precision    recall  f1-score   support\n",
      "\n",
      "          0       0.98      0.99      0.98      4132\n",
      "          1       0.98      0.99      0.98      4684\n",
      "          2       0.96      0.96      0.96      4177\n",
      "          3       0.96      0.95      0.95      4351\n",
      "          4       0.96      0.96      0.96      4072\n",
      "          5       0.97      0.96      0.96      3795\n",
      "          6       0.97      0.98      0.98      4137\n",
      "          7       0.97      0.96      0.96      4401\n",
      "          8       0.95      0.95      0.95      4063\n",
      "          9       0.94      0.95      0.94      4188\n",
      "\n",
      "avg / total       0.96      0.96      0.96     42000\n",
      "\n",
      "[[4074    0    3    4    3    4   22    0   19    3]\n",
      " [   0 4617   17   16    8    3    5   10    6    2]\n",
      " [  19   10 4012   20   22    2   15   40   29    8]\n",
      " [   4    5   61 4127    4   50    4   29   47   20]\n",
      " [   8    6    6    2 3925    0   17   10   13   85]\n",
      " [  14    5    5   49   10 3627   27    8   29   21]\n",
      " [  20    7    3    0   11   22 4063    0   11    0]\n",
      " [   7   19   46    4   21    1    0 4231    6   66]\n",
      " [  14   22   19   44   17   31   17    5 3847   47]\n",
      " [  17    9   12   48   54   16    2   39   32 3959]]\n"
     ]
    }
   ],
   "source": [
    "print metrics.classification_report(y_train, preds)\n",
    "print metrics.confusion_matrix(y_train, preds)"
   ]
  },
  {
   "cell_type": "code",
   "execution_count": null,
   "metadata": {
    "collapsed": true
   },
   "outputs": [],
   "source": []
  },
  {
   "cell_type": "code",
   "execution_count": 16,
   "metadata": {
    "collapsed": true
   },
   "outputs": [],
   "source": [
    "clf.fit(X_train, y_train)\n",
    "p = clf.predict(X_test)\n",
    "pp = pd.DataFrame(p, columns=['Label'])\n",
    "pp['ImageId'] = index=dfTest.index+1\n",
    "pp.set_index('ImageId', inplace=True)\n",
    "pp.to_csv('../../result/digits.csv')"
   ]
  },
  {
   "cell_type": "code",
   "execution_count": null,
   "metadata": {
    "collapsed": true
   },
   "outputs": [],
   "source": []
  },
  {
   "cell_type": "code",
   "execution_count": 37,
   "metadata": {
    "collapsed": true
   },
   "outputs": [],
   "source": [
    "clf = ensemble.ExtraTreesClassifier(n_estimators = 500, n_jobs=3, max_depth=20, max_features=500)\n",
    "(preds_probas, preds) = cross_val_predict(clf, X_train, y_train)"
   ]
  },
  {
   "cell_type": "code",
   "execution_count": 38,
   "metadata": {
    "collapsed": false
   },
   "outputs": [
    {
     "name": "stdout",
     "output_type": "stream",
     "text": [
      "             precision    recall  f1-score   support\n",
      "\n",
      "          0       0.98      0.99      0.98      4132\n",
      "          1       0.98      0.99      0.98      4684\n",
      "          2       0.96      0.96      0.96      4177\n",
      "          3       0.97      0.95      0.96      4351\n",
      "          4       0.97      0.97      0.97      4072\n",
      "          5       0.97      0.96      0.96      3795\n",
      "          6       0.97      0.98      0.98      4137\n",
      "          7       0.97      0.97      0.97      4401\n",
      "          8       0.96      0.95      0.96      4063\n",
      "          9       0.95      0.95      0.95      4188\n",
      "\n",
      "avg / total       0.97      0.97      0.97     42000\n",
      "\n",
      "[[4075    0    6    2    3    5   13    2   21    5]\n",
      " [   1 4626   17   15    3    4    3    4    9    2]\n",
      " [  15   11 4027   21   21    2   17   36   19    8]\n",
      " [   9    5   58 4125    6   47    7   32   39   23]\n",
      " [   7    7    4    0 3931    1   22    6    7   87]\n",
      " [  13    8    3   33    5 3657   20    7   31   18]\n",
      " [  24    6    3    0   14   23 4046    0   20    1]\n",
      " [   6   19   46    6    9    2    0 4263    8   42]\n",
      " [   5   28   13   27   14   27   22    3 3879   45]\n",
      " [  15    8    7   35   49   18    3   40   23 3990]]\n"
     ]
    }
   ],
   "source": [
    "print metrics.classification_report(y_train, preds)\n",
    "print metrics.confusion_matrix(y_train, preds)"
   ]
  },
  {
   "cell_type": "code",
   "execution_count": null,
   "metadata": {
    "collapsed": true
   },
   "outputs": [],
   "source": []
  },
  {
   "cell_type": "code",
   "execution_count": 45,
   "metadata": {
    "collapsed": true
   },
   "outputs": [],
   "source": [
    "clf = ensemble.RandomForestClassifier(n_estimators = 500, n_jobs=3, max_depth=10)\n",
    "(preds_probas, preds) = cross_val_predict(clf, X_train, y_train)"
   ]
  },
  {
   "cell_type": "code",
   "execution_count": 46,
   "metadata": {
    "collapsed": false
   },
   "outputs": [
    {
     "name": "stdout",
     "output_type": "stream",
     "text": [
      "             precision    recall  f1-score   support\n",
      "\n",
      "          0       0.97      0.98      0.98      4132\n",
      "          1       0.96      0.98      0.97      4684\n",
      "          2       0.94      0.94      0.94      4177\n",
      "          3       0.94      0.92      0.93      4351\n",
      "          4       0.95      0.94      0.94      4072\n",
      "          5       0.96      0.93      0.94      3795\n",
      "          6       0.96      0.97      0.97      4137\n",
      "          7       0.95      0.94      0.94      4401\n",
      "          8       0.93      0.93      0.93      4063\n",
      "          9       0.89      0.92      0.91      4188\n",
      "\n",
      "avg / total       0.95      0.95      0.95     42000\n",
      "\n",
      "[[4048    0    6    2    3    5   22    1   41    4]\n",
      " [   0 4596   23   16    9    6   11   11    8    4]\n",
      " [  18   18 3938   30   37    1   29   63   32   11]\n",
      " [   9   23   82 3995   10   71   10   46   64   41]\n",
      " [   7    7    9    1 3821    3   28    9   17  170]\n",
      " [  26   25    7   67    9 3542   40    8   34   37]\n",
      " [  22   12    3    0   14   39 4029    0   18    0]\n",
      " [   6   29   68    5   31    0    0 4122   16  124]\n",
      " [   9   48   23   57   21   27   23    8 3759   88]\n",
      " [  24   15   14   69   79   12    3   56   43 3873]]\n"
     ]
    }
   ],
   "source": [
    "print metrics.classification_report(y_train, preds)\n",
    "print metrics.confusion_matrix(y_train, preds)"
   ]
  },
  {
   "cell_type": "code",
   "execution_count": null,
   "metadata": {
    "collapsed": true
   },
   "outputs": [],
   "source": []
  },
  {
   "cell_type": "markdown",
   "metadata": {},
   "source": [
    "#Avec une PCA préliminaire"
   ]
  },
  {
   "cell_type": "code",
   "execution_count": 14,
   "metadata": {
    "collapsed": true
   },
   "outputs": [],
   "source": [
    "from sklearn.decomposition import PCA, SparsePCA"
   ]
  },
  {
   "cell_type": "code",
   "execution_count": 50,
   "metadata": {
    "collapsed": false
   },
   "outputs": [
    {
     "data": {
      "text/plain": [
       "(42000, 784)"
      ]
     },
     "execution_count": 50,
     "metadata": {},
     "output_type": "execute_result"
    }
   ],
   "source": [
    "X.shape"
   ]
  },
  {
   "cell_type": "code",
   "execution_count": 51,
   "metadata": {
    "collapsed": true
   },
   "outputs": [],
   "source": [
    "pca = PCA(n_components=X.shape[1]/10)\n",
    "X_train_pca = pca.fit_transform(X_train)"
   ]
  },
  {
   "cell_type": "code",
   "execution_count": 55,
   "metadata": {
    "collapsed": false
   },
   "outputs": [],
   "source": [
    "clf = ensemble.RandomForestClassifier(n_estimators = 500, n_jobs=3, max_depth=10)\n",
    "(preds_probas, preds) = cross_val_predict(clf, pd.DataFrame(X_train_pca), y_train)"
   ]
  },
  {
   "cell_type": "code",
   "execution_count": 56,
   "metadata": {
    "collapsed": false
   },
   "outputs": [
    {
     "name": "stdout",
     "output_type": "stream",
     "text": [
      "             precision    recall  f1-score   support\n",
      "\n",
      "          0       0.96      0.96      0.96      4132\n",
      "          1       0.96      0.97      0.97      4684\n",
      "          2       0.92      0.90      0.91      4177\n",
      "          3       0.86      0.90      0.88      4351\n",
      "          4       0.92      0.91      0.91      4072\n",
      "          5       0.91      0.89      0.90      3795\n",
      "          6       0.94      0.96      0.95      4137\n",
      "          7       0.94      0.93      0.93      4401\n",
      "          8       0.87      0.87      0.87      4063\n",
      "          9       0.89      0.88      0.89      4188\n",
      "\n",
      "avg / total       0.92      0.92      0.92     42000\n",
      "\n",
      "[[3974    0   16   28    6   17   51    8   25    7]\n",
      " [   1 4562   25   32    2   16   12    5   27    2]\n",
      " [  26   17 3762   82   54    7   27   39  147   16]\n",
      " [  10   16   82 3906    5   92   24   45  127   44]\n",
      " [   5   31   37   12 3711    9   44   14   42  167]\n",
      " [  27    4   22  172   40 3374   61   11   39   45]\n",
      " [  38    8   28    3   16   58 3979    0    7    0]\n",
      " [  12   55   70    5   43    4    3 4073   46   90]\n",
      " [  19   34   43  209   28  108   20   17 3519   66]\n",
      " [  21   18   21   82  136   23    5  128   58 3696]]\n"
     ]
    }
   ],
   "source": [
    "print metrics.classification_report(y_train, preds)\n",
    "print metrics.confusion_matrix(y_train, preds)"
   ]
  },
  {
   "cell_type": "markdown",
   "metadata": {},
   "source": [
    "### Avec un scaler ça ira mieux"
   ]
  },
  {
   "cell_type": "code",
   "execution_count": 13,
   "metadata": {
    "collapsed": true
   },
   "outputs": [],
   "source": [
    "from sklearn import preprocessing"
   ]
  },
  {
   "cell_type": "code",
   "execution_count": 58,
   "metadata": {
    "collapsed": false,
    "scrolled": true
   },
   "outputs": [
    {
     "name": "stderr",
     "output_type": "stream",
     "text": [
      "/home/issam/anaconda/lib/python2.7/site-packages/sklearn/utils/validation.py:332: UserWarning: The scale function assumes floating point values as input, got int64\n",
      "  \"got %s\" % (estimator, X.dtype))\n",
      "/home/issam/anaconda/lib/python2.7/site-packages/sklearn/preprocessing/data.py:145: DeprecationWarning: Implicitly casting between incompatible kinds. In a future numpy release, this will raise an error. Use casting=\"unsafe\" if this is intentional.\n",
      "  Xr -= mean_\n",
      "/home/issam/anaconda/lib/python2.7/site-packages/sklearn/preprocessing/data.py:147: DeprecationWarning: Implicitly casting between incompatible kinds. In a future numpy release, this will raise an error. Use casting=\"unsafe\" if this is intentional.\n",
      "  Xr /= std_\n"
     ]
    }
   ],
   "source": [
    "pca = PCA(n_components=X.shape[1]/10)\n",
    "X_train_pca = pca.fit_transform(preprocessing.scale(X_train))"
   ]
  },
  {
   "cell_type": "code",
   "execution_count": 59,
   "metadata": {
    "collapsed": false
   },
   "outputs": [],
   "source": [
    "clf = ensemble.RandomForestClassifier(n_estimators = 500, n_jobs=3, max_depth=10)\n",
    "(preds_probas, preds) = cross_val_predict(clf, pd.DataFrame(X_train_pca), y_train)"
   ]
  },
  {
   "cell_type": "code",
   "execution_count": 60,
   "metadata": {
    "collapsed": false
   },
   "outputs": [
    {
     "name": "stdout",
     "output_type": "stream",
     "text": [
      "             precision    recall  f1-score   support\n",
      "\n",
      "          0       0.93      0.95      0.94      4132\n",
      "          1       0.95      0.97      0.96      4684\n",
      "          2       0.86      0.85      0.85      4177\n",
      "          3       0.81      0.83      0.82      4351\n",
      "          4       0.87      0.87      0.87      4072\n",
      "          5       0.82      0.77      0.79      3795\n",
      "          6       0.92      0.93      0.93      4137\n",
      "          7       0.88      0.88      0.88      4401\n",
      "          8       0.81      0.77      0.79      4063\n",
      "          9       0.82      0.84      0.83      4188\n",
      "\n",
      "avg / total       0.87      0.87      0.87     42000\n",
      "\n",
      "[[3942    0   29   33    7   53   47    8    7    6]\n",
      " [   1 4533   38   14   17    7   32    6   25   11]\n",
      " [  65   16 3538  191   57   16   80   42  153   19]\n",
      " [  26   25  145 3623   16  104   14   76  236   86]\n",
      " [   6   54   98    6 3555   47   18   38   28  222]\n",
      " [  73    3   56  302   53 2925  100   26  174   83]\n",
      " [  65    9   49    7   41   97 3837    2   30    0]\n",
      " [  14   42   41   39   97    2    0 3854   35  277]\n",
      " [  34   72  107  226   57  316   28   34 3121   68]\n",
      " [  24   12   32   47  180   21    0  310   53 3509]]\n"
     ]
    }
   ],
   "source": [
    "print metrics.classification_report(y_train, preds)\n",
    "print metrics.confusion_matrix(y_train, preds)"
   ]
  },
  {
   "cell_type": "code",
   "execution_count": null,
   "metadata": {
    "collapsed": true
   },
   "outputs": [],
   "source": []
  },
  {
   "cell_type": "markdown",
   "metadata": {},
   "source": [
    "# Testons des modèles linaires"
   ]
  },
  {
   "cell_type": "code",
   "execution_count": 12,
   "metadata": {
    "collapsed": true
   },
   "outputs": [],
   "source": [
    "from sklearn import linear_model"
   ]
  },
  {
   "cell_type": "code",
   "execution_count": 68,
   "metadata": {
    "collapsed": false
   },
   "outputs": [],
   "source": [
    "clf = linear_model.SGDClassifier(loss='log')\n",
    "(preds_probas, preds) = cross_val_predict(clf, pd.DataFrame(X_train), y_train)"
   ]
  },
  {
   "cell_type": "code",
   "execution_count": 69,
   "metadata": {
    "collapsed": false
   },
   "outputs": [
    {
     "name": "stdout",
     "output_type": "stream",
     "text": [
      "             precision    recall  f1-score   support\n",
      "\n",
      "          0       0.92      0.96      0.94      4132\n",
      "          1       0.91      0.97      0.94      4684\n",
      "          2       0.90      0.83      0.86      4177\n",
      "          3       0.90      0.81      0.86      4351\n",
      "          4       0.87      0.91      0.89      4072\n",
      "          5       0.80      0.81      0.81      3795\n",
      "          6       0.95      0.91      0.93      4137\n",
      "          7       0.91      0.85      0.88      4401\n",
      "          8       0.79      0.81      0.80      4063\n",
      "          9       0.80      0.87      0.83      4188\n",
      "\n",
      "avg / total       0.88      0.87      0.87     42000\n",
      "\n",
      "[[3968    1   33    8   12   27   22    8   43   10]\n",
      " [   0 4546   23    8    5   18    7    3   66    8]\n",
      " [  42  117 3465   48   89   42   34   81  211   48]\n",
      " [  35   57  157 3539   14  223   15   60  171   80]\n",
      " [  13   20   21   11 3708   21   11   14   44  209]\n",
      " [  70   20   34  132   77 3083   63   20  231   65]\n",
      " [  52   28   48    9   67  131 3748    8   35   11]\n",
      " [  25   42   43   10   55   21    4 3760   24  417]\n",
      " [  64  139   38  106   78  230   21   32 3273   82]\n",
      " [  35   28    8   51  176   43    0  131   57 3659]]\n"
     ]
    }
   ],
   "source": [
    "print metrics.classification_report(y_train, preds)\n",
    "print metrics.confusion_matrix(y_train, preds)"
   ]
  },
  {
   "cell_type": "code",
   "execution_count": null,
   "metadata": {
    "collapsed": true
   },
   "outputs": [],
   "source": []
  },
  {
   "cell_type": "code",
   "execution_count": 70,
   "metadata": {
    "collapsed": false
   },
   "outputs": [],
   "source": [
    "clf = linear_model.SGDClassifier(loss='modified_huber')\n",
    "(preds_probas, preds) = cross_val_predict(clf, pd.DataFrame(X_train), y_train)"
   ]
  },
  {
   "cell_type": "code",
   "execution_count": 71,
   "metadata": {
    "collapsed": false
   },
   "outputs": [
    {
     "name": "stdout",
     "output_type": "stream",
     "text": [
      "             precision    recall  f1-score   support\n",
      "\n",
      "          0       0.95      0.95      0.95      4132\n",
      "          1       0.89      0.98      0.93      4684\n",
      "          2       0.88      0.86      0.87      4177\n",
      "          3       0.89      0.81      0.85      4351\n",
      "          4       0.86      0.90      0.88      4072\n",
      "          5       0.71      0.82      0.76      3795\n",
      "          6       0.96      0.90      0.93      4137\n",
      "          7       0.90      0.86      0.88      4401\n",
      "          8       0.83      0.70      0.76      4063\n",
      "          9       0.80      0.86      0.83      4188\n",
      "\n",
      "avg / total       0.87      0.87      0.87     42000\n",
      "\n",
      "[[3944    0   30    9   13   61   28    6   31   10]\n",
      " [   0 4580   22   10    1   27    2    5   29    8]\n",
      " [  19  107 3574   50   83   62   29   83  139   31]\n",
      " [  12   65  182 3518   17  319   10   54  108   66]\n",
      " [   7   29   21   11 3685   36   16   22   17  228]\n",
      " [  52   27   46  153   87 3103   54   23  188   62]\n",
      " [  39   42   66    8   54  159 3731   10   23    5]\n",
      " [  19   50   45   19   59   33    6 3769    8  393]\n",
      " [  45  230   51  132   96  480   26   38 2856  109]\n",
      " [  24   42   14   51  199   64    1  176   29 3588]]\n"
     ]
    }
   ],
   "source": [
    "print metrics.classification_report(y_train, preds)\n",
    "print metrics.confusion_matrix(y_train, preds)"
   ]
  },
  {
   "cell_type": "code",
   "execution_count": null,
   "metadata": {
    "collapsed": true
   },
   "outputs": [],
   "source": []
  },
  {
   "cell_type": "code",
   "execution_count": 16,
   "metadata": {
    "collapsed": false
   },
   "outputs": [
    {
     "name": "stderr",
     "output_type": "stream",
     "text": [
      "/home/issam/anaconda/lib/python2.7/site-packages/sklearn/preprocessing/data.py:145: DeprecationWarning: Implicitly casting between incompatible kinds. In a future numpy release, this will raise an error. Use casting=\"unsafe\" if this is intentional.\n",
      "  Xr -= mean_\n",
      "/home/issam/anaconda/lib/python2.7/site-packages/sklearn/preprocessing/data.py:147: DeprecationWarning: Implicitly casting between incompatible kinds. In a future numpy release, this will raise an error. Use casting=\"unsafe\" if this is intentional.\n",
      "  Xr /= std_\n"
     ]
    }
   ],
   "source": [
    "clf = linear_model.LogisticRegression()\n",
    "(preds_probas, preds) = cross_val_predict(clf, pd.DataFrame(preprocessing.scale(X_train)), y_train)"
   ]
  },
  {
   "cell_type": "code",
   "execution_count": 18,
   "metadata": {
    "collapsed": false
   },
   "outputs": [
    {
     "name": "stdout",
     "output_type": "stream",
     "text": [
      "             precision    recall  f1-score   support\n",
      "\n",
      "          0       0.95      0.97      0.96      4132\n",
      "          1       0.94      0.97      0.96      4684\n",
      "          2       0.90      0.88      0.89      4177\n",
      "          3       0.88      0.87      0.88      4351\n",
      "          4       0.90      0.91      0.91      4072\n",
      "          5       0.87      0.85      0.86      3795\n",
      "          6       0.94      0.95      0.94      4137\n",
      "          7       0.91      0.92      0.91      4401\n",
      "          8       0.87      0.84      0.85      4063\n",
      "          9       0.87      0.86      0.87      4188\n",
      "\n",
      "avg / total       0.90      0.90      0.90     42000\n",
      "\n",
      "[[3993    0   15   15    8   36   30    4   24    7]\n",
      " [   0 4562   29   13    5   13    9    9   41    3]\n",
      " [  42   58 3655   80   60   25   65   68  107   17]\n",
      " [  16   21  128 3798   11  154   21   48  100   54]\n",
      " [  14   25   35   12 3724    7   24   28   44  159]\n",
      " [  43   25   30  152   57 3240   67   20  104   57]\n",
      " [  37   12   39    4   30   58 3922    3   31    1]\n",
      " [  16   29   60   23   49   20    4 4029   11  160]\n",
      " [  39   87   51  144   30  143   39   25 3422   83]\n",
      " [  20   21   13   68  153   45    2  188   58 3620]]\n"
     ]
    }
   ],
   "source": [
    "print metrics.classification_report(y_train, preds)\n",
    "print metrics.confusion_matrix(y_train, preds)"
   ]
  },
  {
   "cell_type": "code",
   "execution_count": null,
   "metadata": {
    "collapsed": true
   },
   "outputs": [],
   "source": []
  },
  {
   "cell_type": "markdown",
   "metadata": {},
   "source": [
    "# La RBM à la rescousse"
   ]
  },
  {
   "cell_type": "code",
   "execution_count": 28,
   "metadata": {
    "collapsed": false
   },
   "outputs": [],
   "source": [
    "rbm = BernoulliRBM(n_components=100)\n",
    "clf = ensemble.RandomForestClassifier(n_estimators = 500, n_jobs=3, max_depth=10)\n",
    "pipe = Pipeline(steps=[('rbm', rbm), ('rf', clf)])\n",
    "(preds_probas, preds) = cross_val_predict(clf, X_train, y_train)"
   ]
  },
  {
   "cell_type": "code",
   "execution_count": 29,
   "metadata": {
    "collapsed": false
   },
   "outputs": [
    {
     "name": "stdout",
     "output_type": "stream",
     "text": [
      "             precision    recall  f1-score   support\n",
      "\n",
      "          0       0.97      0.98      0.97      4132\n",
      "          1       0.96      0.98      0.97      4684\n",
      "          2       0.95      0.94      0.94      4177\n",
      "          3       0.94      0.92      0.93      4351\n",
      "          4       0.95      0.94      0.94      4072\n",
      "          5       0.95      0.93      0.94      3795\n",
      "          6       0.96      0.97      0.97      4137\n",
      "          7       0.95      0.93      0.94      4401\n",
      "          8       0.93      0.93      0.93      4063\n",
      "          9       0.89      0.92      0.91      4188\n",
      "\n",
      "avg / total       0.95      0.95      0.95     42000\n",
      "\n",
      "[[4045    0    5    3    4    7   20    2   43    3]\n",
      " [   0 4594   26   15    9    6   11   11    8    4]\n",
      " [  22   17 3930   30   39    3   31   59   30   16]\n",
      " [   9   26   79 3993    9   77   11   44   61   42]\n",
      " [   7    6   10    0 3829    3   26   10   20  161]\n",
      " [  24   22    5   72    9 3547   42    6   29   39]\n",
      " [  23   13    2    0   16   43 4021    1   18    0]\n",
      " [   5   30   66    6   34    2    0 4114   17  127]\n",
      " [  10   48   19   61   20   28   22    7 3763   85]\n",
      " [  23   16   13   68   78   13    4   61   40 3872]]\n"
     ]
    }
   ],
   "source": [
    "print metrics.classification_report(y_train, preds)\n",
    "print metrics.confusion_matrix(y_train, preds)"
   ]
  },
  {
   "cell_type": "code",
   "execution_count": null,
   "metadata": {
    "collapsed": true
   },
   "outputs": [],
   "source": []
  },
  {
   "cell_type": "code",
   "execution_count": 33,
   "metadata": {
    "collapsed": false
   },
   "outputs": [],
   "source": [
    "rbm = BernoulliRBM(n_components=100)\n",
    "lgr = linear_model.LogisticRegression()\n",
    "pipe = Pipeline(steps=[('rbm', rbm), ('logistic', lgr)])\n",
    "(preds_probas, preds) = cross_val_predict(clf, X_train, y_train)"
   ]
  },
  {
   "cell_type": "code",
   "execution_count": 34,
   "metadata": {
    "collapsed": false
   },
   "outputs": [
    {
     "name": "stdout",
     "output_type": "stream",
     "text": [
      "             precision    recall  f1-score   support\n",
      "\n",
      "          0       0.97      0.98      0.98      4132\n",
      "          1       0.96      0.98      0.97      4684\n",
      "          2       0.94      0.94      0.94      4177\n",
      "          3       0.94      0.92      0.93      4351\n",
      "          4       0.95      0.94      0.94      4072\n",
      "          5       0.95      0.93      0.94      3795\n",
      "          6       0.96      0.97      0.97      4137\n",
      "          7       0.96      0.94      0.95      4401\n",
      "          8       0.93      0.92      0.93      4063\n",
      "          9       0.89      0.92      0.91      4188\n",
      "\n",
      "avg / total       0.95      0.95      0.95     42000\n",
      "\n",
      "[[4053    0    4    2    3    7   21    0   38    4]\n",
      " [   0 4593   26   17    9    5   10   11    8    5]\n",
      " [  21   17 3932   33   39    1   29   59   31   15]\n",
      " [  11   22   85 3996    7   71   12   40   62   45]\n",
      " [   7    7    7    0 3828    3   25    9   18  168]\n",
      " [  25   24    6   71    8 3543   40    8   36   34]\n",
      " [  26   11    4    0   14   41 4020    1   20    0]\n",
      " [   6   29   70    5   33    0    0 4116   17  125]\n",
      " [   8   49   21   63   22   31   21    7 3748   93]\n",
      " [  23   17   13   69   85   10    3   58   42 3868]]\n"
     ]
    }
   ],
   "source": [
    "print metrics.classification_report(y_train, preds)\n",
    "print metrics.confusion_matrix(y_train, preds)"
   ]
  },
  {
   "cell_type": "code",
   "execution_count": null,
   "metadata": {
    "collapsed": true
   },
   "outputs": [],
   "source": []
  }
 ],
 "metadata": {
  "kernelspec": {
   "display_name": "Python 2",
   "language": "python",
   "name": "python2"
  },
  "language_info": {
   "codemirror_mode": {
    "name": "ipython",
    "version": 2
   },
   "file_extension": ".py",
   "mimetype": "text/x-python",
   "name": "python",
   "nbconvert_exporter": "python",
   "pygments_lexer": "ipython2",
   "version": "2.7.9"
  }
 },
 "nbformat": 4,
 "nbformat_minor": 0
}
