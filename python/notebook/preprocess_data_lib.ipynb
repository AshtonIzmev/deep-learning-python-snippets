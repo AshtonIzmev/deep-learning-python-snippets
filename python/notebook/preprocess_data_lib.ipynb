{
 "cells": [
  {
   "cell_type": "code",
   "execution_count": 80,
   "metadata": {
    "collapsed": true
   },
   "outputs": [],
   "source": [
    "import pandas as pd\n",
    "import numpy as np\n",
    "import random\n",
    "from sklearn.externals import joblib\n",
    "from scipy import ndimage\n",
    "import matplotlib.pyplot as plt\n",
    "#%matplotlib inline"
   ]
  },
  {
   "cell_type": "code",
   "execution_count": null,
   "metadata": {
    "collapsed": true
   },
   "outputs": [],
   "source": []
  },
  {
   "cell_type": "code",
   "execution_count": 81,
   "metadata": {
    "collapsed": true
   },
   "outputs": [],
   "source": [
    "def shuffle_in_unison_inplace(a, b):\n",
    "    assert len(a) == len(b)\n",
    "    p = np.random.permutation(len(a))\n",
    "    return a[p], b[p]"
   ]
  },
  {
   "cell_type": "code",
   "execution_count": null,
   "metadata": {
    "collapsed": true
   },
   "outputs": [],
   "source": []
  },
  {
   "cell_type": "code",
   "execution_count": 82,
   "metadata": {
    "collapsed": true
   },
   "outputs": [],
   "source": [
    "def getData(pct=0, cast=False):\n",
    "    # Read data\n",
    "    train = pd.read_csv('../../data/train/train.csv')\n",
    "    labels = train.ix[:,0].values\n",
    "    \n",
    "    a_train = (train.ix[:,1:].values)/255.0\n",
    "    a_test = (pd.read_csv('../../data/test/test.csv').values)/255.0\n",
    "    b_train = labels\n",
    "    b_test = np.array([random.randint(0,10) for i in range(a_test.shape[0])])\n",
    "    \n",
    "    a,b = shuffle_in_unison_inplace(a_train, b_train)\n",
    "    X_train, y_train = a[pct*a.shape[0]/10:, :], b[pct*a.shape[0]/10:]\n",
    "    X_valid, y_valid = a[:pct*a.shape[0]/10, :], b[:pct*a.shape[0]/10]\n",
    "    X_test, y_test = a_test, b_test\n",
    "    if cast:\n",
    "        return (X_train.astype('float32'), y_train.astype('int32'), \n",
    "                X_valid.astype('float32'), y_valid.astype('int32'), \n",
    "                X_test.astype('float32'), y_test.astype('int32'))\n",
    "    else:\n",
    "        return (X_train, y_train, X_valid, y_valid, X_test, y_test)"
   ]
  },
  {
   "cell_type": "code",
   "execution_count": 83,
   "metadata": {
    "collapsed": true
   },
   "outputs": [],
   "source": [
    "def getData2(pct=0, cast=False):\n",
    "    # Read data\n",
    "    train = pd.read_csv('../../data/train/train.csv')\n",
    "    labels = train.ix[:,0].values\n",
    "    \n",
    "    a_train = np.array(joblib.load('../../data/train/train2.csv'))\n",
    "    a_test = np.array(joblib.load('../../data/test/test2.csv'))\n",
    "    b_train = labels\n",
    "    b_test = np.array([random.randint(0,10) for i in range(a_test.shape[0])])\n",
    "    \n",
    "    a,b = shuffle_in_unison_inplace(a_train, b_train)\n",
    "    X_train, y_train = a[pct*a.shape[0]/10:, :], b[pct*a.shape[0]/10:]\n",
    "    X_valid, y_valid = a[:pct*a.shape[0]/10, :], b[:pct*a.shape[0]/10]\n",
    "    X_test, y_test = a_test, b_test\n",
    "    if cast:\n",
    "        return (X_train.astype('float32'), y_train.astype('int32'), \n",
    "                X_valid.astype('float32'), y_valid.astype('int32'), \n",
    "                X_test.astype('float32'), y_test.astype('int32'))\n",
    "    else:\n",
    "        return (X_train, y_train, X_valid, y_valid, X_test, y_test)"
   ]
  },
  {
   "cell_type": "code",
   "execution_count": 84,
   "metadata": {
    "collapsed": true
   },
   "outputs": [],
   "source": [
    "def getDataRot(pct=0, cast=False):\n",
    "    # Read data\n",
    "    train = pd.read_csv('../../data/train/train.csv')\n",
    "    labels = train.ix[:,0].values\n",
    "    \n",
    "    a_train1 = (train.ix[:,1:].values)/255.0\n",
    "    a_train2 = np.array(joblib.load('../../data/train/trainRot1.csv'))\n",
    "    a_train3 = np.array(joblib.load('../../data/train/trainRot2.csv'))\n",
    "    a_train = np.concatenate((a_train1, a_train2, a_train3))\n",
    "    \n",
    "    b_train1 = labels\n",
    "    b_train2 = labels\n",
    "    b_train3 = labels\n",
    "    b_train = np.concatenate((b_train1, b_train2, b_train3))\n",
    "    \n",
    "    a_test = (pd.read_csv('../../data/test/test.csv').values)/255.0\n",
    "    #a_test2 = np.array(joblib.load('../../data/test/testRot1.csv'))\n",
    "    #a_test3 = np.array(joblib.load('../../data/test/testRot2.csv'))\n",
    "    #a_test = np.concatenate((a_test1, a_test2, a_test3))\n",
    "    \n",
    "    b_test = np.array([random.randint(0,10) for i in range(a_test.shape[0])])\n",
    "    #b_test2 = np.array([random.randint(0,10) for i in range(a_test.shape[0])])\n",
    "    #b_test3 = np.array([random.randint(0,10) for i in range(a_test.shape[0])])\n",
    "    #b_test = np.concatenate((b_test1, b_test2, b_test3))\n",
    "    \n",
    "    \n",
    "    a,b = shuffle_in_unison_inplace(a_train, b_train)\n",
    "    X_train, y_train = a[pct*a.shape[0]/10:, :], b[pct*a.shape[0]/10:]\n",
    "    X_valid, y_valid = a[:pct*a.shape[0]/10, :], b[:pct*a.shape[0]/10]\n",
    "    X_test, y_test = a_test, b_test\n",
    "    if cast:\n",
    "        return (X_train.astype('float32'), y_train.astype('int32'), \n",
    "                X_valid.astype('float32'), y_valid.astype('int32'), \n",
    "                X_test.astype('float32'), y_test.astype('int32'))\n",
    "    else:\n",
    "        return (X_train, y_train, X_valid, y_valid, X_test, y_test)"
   ]
  },
  {
   "cell_type": "code",
   "execution_count": null,
   "metadata": {
    "collapsed": true
   },
   "outputs": [],
   "source": []
  },
  {
   "cell_type": "code",
   "execution_count": null,
   "metadata": {
    "collapsed": true
   },
   "outputs": [],
   "source": []
  },
  {
   "cell_type": "code",
   "execution_count": 85,
   "metadata": {
    "collapsed": false
   },
   "outputs": [],
   "source": [
    "#a_test_rot1 = [ndimage.interpolation.rotate(i.reshape(28,28), 15.)[3:-3, 3:-3].reshape(784) for i in a_test]\n",
    "#a_test_rot2 = [ndimage.interpolation.rotate(i.reshape(28,28), -15.)[3:-3, 3:-3].reshape(784) for i in a_test]\n",
    "#joblib.dump(a_test_rot2, '../../data/test/testRot2.csv', compress=7)"
   ]
  },
  {
   "cell_type": "code",
   "execution_count": null,
   "metadata": {
    "collapsed": true
   },
   "outputs": [],
   "source": []
  }
 ],
 "metadata": {
  "kernelspec": {
   "display_name": "Python 2",
   "language": "python",
   "name": "python2"
  },
  "language_info": {
   "codemirror_mode": {
    "name": "ipython",
    "version": 2
   },
   "file_extension": ".py",
   "mimetype": "text/x-python",
   "name": "python",
   "nbconvert_exporter": "python",
   "pygments_lexer": "ipython2",
   "version": "2.7.9"
  }
 },
 "nbformat": 4,
 "nbformat_minor": 0
}
